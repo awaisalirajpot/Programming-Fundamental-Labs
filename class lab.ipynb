{
 "cells": [
  {
   "cell_type": "markdown",
   "id": "05497ec3-7817-40b8-a23e-908bbad597d5",
   "metadata": {},
   "source": [
    "## Relational Operators"
   ]
  },
  {
   "cell_type": "markdown",
   "id": "7566c01e-81f9-4c87-adb7-56f67a736e8e",
   "metadata": {},
   "source": [
    "Relational Operators: ![Relational Operators](data:image/jpeg;base64,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)"
   ]
  },
  {
   "cell_type": "code",
   "execution_count": 7,
   "id": "9840ac46-6dcf-45e2-b7ad-3b6b9f6f4089",
   "metadata": {},
   "outputs": [
    {
     "name": "stdout",
     "output_type": "stream",
     "text": [
      "Expression is True\n",
      "Expression is False\n"
     ]
    }
   ],
   "source": [
    "x = 5\n",
    "y = 10\n",
    "true_value = x<y \n",
    "print(\"Expression is\", true_value)\n",
    "false_v = x>y\n",
    "print(\"Expression is\", false_v)"
   ]
  },
  {
   "cell_type": "code",
   "execution_count": 12,
   "id": "5f0dd966-28fc-42a5-b75f-679b827d1be9",
   "metadata": {},
   "outputs": [
    {
     "name": "stdin",
     "output_type": "stream",
     "text": [
      "please enter a number 3\n",
      "please enter second number 3\n"
     ]
    },
    {
     "name": "stdout",
     "output_type": "stream",
     "text": [
      "X is 3 and Y is 3\n",
      "Y is greater than x\n"
     ]
    }
   ],
   "source": [
    "x = int(input(\"please enter a number\"))\n",
    "y = int (input(\"please enter second number\"))\n",
    "print (\"X is\", x, \"and Y is\", y)\n",
    "if x>y:\n",
    "    print(\"X is greater than y\")\n",
    "else:\n",
    "    print(\"Y is greater than x\")"
   ]
  },
  {
   "cell_type": "code",
   "execution_count": 13,
   "id": "7f9a4be1-feb8-40b6-8e0b-146b7cd45aca",
   "metadata": {},
   "outputs": [
    {
     "name": "stdin",
     "output_type": "stream",
     "text": [
      "enter a number:  33\n"
     ]
    },
    {
     "name": "stdout",
     "output_type": "stream",
     "text": [
      "33 is odd\n"
     ]
    }
   ],
   "source": [
    "x = int(input(\"enter a number: \"))\n",
    "if x%2 == 0:\n",
    "    print(x, \"is even\")\n",
    "else:\n",
    "    print(x, \"is odd\")"
   ]
  },
  {
   "cell_type": "code",
   "execution_count": 17,
   "id": "fe2bff59-14fb-4566-9675-9ec2127ceb32",
   "metadata": {},
   "outputs": [
    {
     "name": "stdin",
     "output_type": "stream",
     "text": [
      "Enter month (in numeric form) : 2\n",
      "Enter day:  13\n",
      "Enter year please:  26\n"
     ]
    },
    {
     "name": "stdout",
     "output_type": "stream",
     "text": [
      "2/13/26 is a magic!\n"
     ]
    }
   ],
   "source": [
    "month = int(input(\"Enter month (in numeric form) :\"))\n",
    "day = int(input (\"Enter day: \"))\n",
    "year = int(input(\"Enter year please: \"))\n",
    "#Check if the date is magic\n",
    "if month*day == year:\n",
    "    print(f\"{month}/{day}/{year} is a magic!\")\n",
    "else:\n",
    "    print(f\"{month}/{day}/{year} its not magic\")"
   ]
  },
  {
   "cell_type": "code",
   "execution_count": 20,
   "id": "7be4c288-79ad-408f-b297-46f53bb256dd",
   "metadata": {},
   "outputs": [
    {
     "name": "stdin",
     "output_type": "stream",
     "text": [
      "enter the length of first rectangle 333333333333\n",
      "enter the width of the first rectangle 3333333\n",
      "enter the length of second rectangle 22222222\n",
      "enter the width of second rectangle 33333\n"
     ]
    },
    {
     "name": "stdout",
     "output_type": "stream",
     "text": [
      "The first rectangle area is greater.\n"
     ]
    }
   ],
   "source": [
    "len1 = float(input(\"enter the length of first rectangle\"))\n",
    "wid1 = float(input(\"enter the width of the first rectangle\"))\n",
    "\n",
    "#Taking measures for the second entery\n",
    "len2 = float(input(\"enter the length of second rectangle\"))\n",
    "wid2 = float(input(\"enter the width of second rectangle\"))\n",
    "\n",
    "area1 = len1*wid1\n",
    "area2 = len2*wid2\n",
    "\n",
    "# Compare and display result\n",
    "if area1>area2:\n",
    "    print(\"The first rectangle area is greater.\")\n",
    "elif area2>area1:\n",
    "    print(\"The second rectangle has the greater area.\")\n",
    "else:\n",
    "    print(\"Both rectangles have the same area\")"
   ]
  },
  {
   "cell_type": "code",
   "execution_count": 29,
   "id": "35bd29c6-9a1f-4600-a146-006135c65f64",
   "metadata": {},
   "outputs": [
    {
     "name": "stdin",
     "output_type": "stream",
     "text": [
      "please enter the weight in pounds 176\n",
      "please enter the height in inches 5.11\n"
     ]
    },
    {
     "name": "stdout",
     "output_type": "stream",
     "text": [
      "4738.339696922117\n",
      "The person over weight\n"
     ]
    }
   ],
   "source": [
    "weight = int(input(\"please enter the weight in pounds\"))\n",
    "height = float (input(\"please enter the height in inches\"))\n",
    "\n",
    "#Formula\n",
    "BMI = (weight*703)/(height**2)\n",
    "print(BMI)\n",
    "\n",
    "if BMI>=18.5 and BMI<=25:\n",
    "    print(\"The person is optimal wieght\")\n",
    "elif BMI<18.5:\n",
    "    print(\"The person is under wieght\")\n",
    "else:\n",
    "    print(\"The person over weight\")\n",
    "    "
   ]
  },
  {
   "cell_type": "code",
   "execution_count": 34,
   "id": "da0d8dfd-bfd1-4048-bca2-7ccce3385247",
   "metadata": {},
   "outputs": [
    {
     "name": "stdin",
     "output_type": "stream",
     "text": [
      "Please enter the mass in Kilograms 33\n"
     ]
    },
    {
     "name": "stdout",
     "output_type": "stream",
     "text": [
      "323.40000000000003\n",
      "mass is too light\n"
     ]
    }
   ],
   "source": [
    "mass = int(input(\"Please enter the mass in Kilograms\"))\n",
    "weight = mass*9.8\n",
    "print(weight)\n",
    "if weight>1000:\n",
    "    print(\"mass is too havy\")\n",
    "elif weight<1000:\n",
    "    print(\"mass is too light\")\n",
    "else:\n",
    "    print(\"weight is optimal\")\n"
   ]
  },
  {
   "cell_type": "code",
   "execution_count": 41,
   "id": "a92ea30e-a660-4777-ae25-2549eec05a88",
   "metadata": {},
   "outputs": [
    {
     "name": "stdin",
     "output_type": "stream",
     "text": [
      "Please enter the seconds:  86500\n"
     ]
    },
    {
     "name": "stdout",
     "output_type": "stream",
     "text": [
      "total hours are: 24.02777777777778\n"
     ]
    }
   ],
   "source": [
    "seconds = int(input(\"Please enter the seconds: \"))\n",
    "\n",
    "#formulas\n",
    "minuts = seconds/60\n",
    "\n",
    "if seconds>=3600:\n",
    "    print(\"total hours are:\", seconds/3600)\n",
    "elif seconds>=86400:\n",
    "    days = seconds/86400\n",
    "    print(\"That is\", days, \"day(s).\")\n",
    "else:\n",
    "    print(\"That is less tahn a minut\")"
   ]
  },
  {
   "cell_type": "code",
   "execution_count": null,
   "id": "6fbe948b-acf7-40f6-a06e-8f886acfa55d",
   "metadata": {},
   "outputs": [],
   "source": []
  }
 ],
 "metadata": {
  "kernelspec": {
   "display_name": "Python 3 (ipykernel)",
   "language": "python",
   "name": "python3"
  },
  "language_info": {
   "codemirror_mode": {
    "name": "ipython",
    "version": 3
   },
   "file_extension": ".py",
   "mimetype": "text/x-python",
   "name": "python",
   "nbconvert_exporter": "python",
   "pygments_lexer": "ipython3",
   "version": "3.13.5"
  }
 },
 "nbformat": 4,
 "nbformat_minor": 5
}
